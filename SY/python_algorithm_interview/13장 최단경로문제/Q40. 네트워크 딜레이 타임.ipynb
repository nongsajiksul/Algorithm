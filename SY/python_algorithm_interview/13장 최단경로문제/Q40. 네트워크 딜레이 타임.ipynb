{
 "cells": [
  {
   "cell_type": "markdown",
   "metadata": {},
   "source": [
    "### Q 40. 네트워크 딜레이 타임\n",
    "K부터 출발해 모든 노드가 신호를 받을 수 있는 시간을 계산하라. 불가능할 경우 -1을 리턴한다.  \n",
    "입력값(u, v, w)는 각각 출발지, 도착지, 소요 시간으로 구성되며, 전체 노드의 개수는 N으로 입력받는다."
   ]
  },
  {
   "cell_type": "code",
   "execution_count": null,
   "metadata": {},
   "outputs": [],
   "source": [
    "import collections\n",
    "import heapq\n",
    "from typing import List\n",
    "\n",
    "\n",
    "class Solution:\n",
    "    def networkDelayTime(self, times: List[List[int]], N: int, K: int) -> int:\n",
    "        graph = collections.defaultdict(list)\n",
    "        \n",
    "        for u, v, w in times:\n",
    "            graph[u].append((v, w))\n",
    "\n",
    "        Q = [(0, K)]\n",
    "        dist = collections.defaultdict(int)\n",
    "\n",
    "        while Q:\n",
    "            time, node = heapq.heappop(Q)\n",
    "            if node not in dist:\n",
    "                dist[node] = time\n",
    "                for v, w in graph[node]:\n",
    "                    alt = time + w\n",
    "                    heapq.heappush(Q, (alt, v))\n",
    "\n",
    "        if len(dist) == N:\n",
    "            return max(dist.values())\n",
    "        return -1"
   ]
  },
  {
   "cell_type": "code",
   "execution_count": null,
   "metadata": {},
   "outputs": [],
   "source": []
  }
 ],
 "metadata": {
  "kernelspec": {
   "display_name": "Python 3",
   "language": "python",
   "name": "python3"
  },
  "language_info": {
   "codemirror_mode": {
    "name": "ipython",
    "version": 3
   },
   "file_extension": ".py",
   "mimetype": "text/x-python",
   "name": "python",
   "nbconvert_exporter": "python",
   "pygments_lexer": "ipython3",
   "version": "3.7.4"
  }
 },
 "nbformat": 4,
 "nbformat_minor": 2
}
