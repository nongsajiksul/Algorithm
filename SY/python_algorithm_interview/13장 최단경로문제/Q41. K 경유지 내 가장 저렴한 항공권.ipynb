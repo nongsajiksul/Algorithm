{
 "cells": [
  {
   "cell_type": "markdown",
   "metadata": {},
   "source": [
    "### Q 41. K 경유지 내 가장 저렴한 항공권\n",
    "시작점에서 도착점까지의 가장 저렴한 가격을 계산하되, K개의 경유지 이내에 도착하는 가격을 리턴하라. 경로가 존재하지 않을 경우 -1을 리턴한다."
   ]
  },
  {
   "cell_type": "code",
   "execution_count": null,
   "metadata": {},
   "outputs": [],
   "source": [
    "import collections\n",
    "import heapq\n",
    "from typing import List\n",
    "\n",
    "class Solution:\n",
    "    def findCheapestPrice(self, n: int, flights: List[List[int]], src: int, dst: int, K: int) -> int:\n",
    "        graph = collections.defaultdict(list)\n",
    "        \n",
    "        for u, v, w in flights:\n",
    "            graph[u].append((v, w))\n",
    "        \n",
    "        Q = [(0, src, 0)]\n",
    "        \n",
    "        while Q:\n",
    "            price, node, cnt = heapq.heappop(Q)\n",
    "            if node == dst:\n",
    "                return price\n",
    "            if cnt <= K:\n",
    "                for v, w in graph[node]:\n",
    "                    heapq.heappush(Q, (price+w, v, cnt+1))\n",
    "    \n",
    "        return -1"
   ]
  },
  {
   "cell_type": "code",
   "execution_count": null,
   "metadata": {},
   "outputs": [],
   "source": []
  }
 ],
 "metadata": {
  "kernelspec": {
   "display_name": "Python 3",
   "language": "python",
   "name": "python3"
  },
  "language_info": {
   "codemirror_mode": {
    "name": "ipython",
    "version": 3
   },
   "file_extension": ".py",
   "mimetype": "text/x-python",
   "name": "python",
   "nbconvert_exporter": "python",
   "pygments_lexer": "ipython3",
   "version": "3.7.4"
  }
 },
 "nbformat": 4,
 "nbformat_minor": 2
}
